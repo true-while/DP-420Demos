{
  "cells": [
    {
      "cell_type": "markdown",
      "source": [
        "# NOTE\n",
        "\n",
        "For Spark 3 Cosmos DB connector has slightly different configuration. Please select different snippest if a Spark 3.1 + pool is attached."
      ],
      "metadata": {}
    },
    {
      "cell_type": "code",
      "source": [
        "#Create databases and containers\r\n",
        "\r\n",
        "cosmosEndpoint = \"https://alexdemo.documents.azure.com:443/\"\r\n",
        "cosmosMasterKey = \"nEOOcd2LIogjM6QoOebGn1dFQ1Bg8tszHrJK8WXmfyWJtScpfViFtE6sImOn9maA4mjojnKFk1RbNrFk51hqZQ==\"\r\n",
        "cosmosDatabaseName = \"sampleDB\"\r\n",
        "cosmosContainerName = \"sampleContainer\"\r\n",
        "\r\n",
        "cfg = {\r\n",
        "  \"spark.cosmos.accountEndpoint\" : cosmosEndpoint,\r\n",
        "  \"spark.cosmos.accountKey\" : cosmosMasterKey,\r\n",
        "  \"spark.cosmos.database\" : cosmosDatabaseName,\r\n",
        "  \"spark.cosmos.container\" : cosmosContainerName,\r\n",
        "}"
      ],
      "outputs": [
        {
          "output_type": "display_data",
          "data": {
            "application/vnd.livy.statement-meta+json": {
              "spark_pool": "thepool",
              "session_id": "0",
              "statement_id": 4,
              "state": "finished",
              "livy_statement_state": "available",
              "queued_time": "2022-10-29T17:54:54.4810621Z",
              "session_start_time": null,
              "execution_start_time": "2022-10-29T17:54:54.6016584Z",
              "execution_finish_time": "2022-10-29T17:54:54.8055721Z",
              "spark_jobs": null
            },
            "text/plain": "StatementMeta(thepool, 0, 4, Finished, Available)"
          },
          "metadata": {}
        }
      ],
      "execution_count": 4,
      "metadata": {
        "jupyter": {
          "source_hidden": false,
          "outputs_hidden": false
        },
        "nteract": {
          "transient": {
            "deleting": false
          }
        }
      }
    },
    {
      "cell_type": "code",
      "source": [
        "# Configure Catalog Api to be used\r\n",
        "spark.conf.set(\"spark.sql.catalog.cosmosCatalog\", \"com.azure.cosmos.spark.CosmosCatalog\")\r\n",
        "spark.conf.set(\"spark.sql.catalog.cosmosCatalog.spark.cosmos.accountEndpoint\", cosmosEndpoint)\r\n",
        "spark.conf.set(\"spark.sql.catalog.cosmosCatalog.spark.cosmos.accountKey\", cosmosMasterKey)\r\n",
        "\r\n",
        "# create an Azure Cosmos DB database using catalog api\r\n",
        "spark.sql(\"CREATE DATABASE IF NOT EXISTS cosmosCatalog.{};\".format(cosmosDatabaseName))\r\n",
        "\r\n",
        "# create an Azure Cosmos DB container using catalog api\r\n",
        "spark.sql(\"CREATE TABLE IF NOT EXISTS cosmosCatalog.{}.{} using cosmos.oltp TBLPROPERTIES(partitionKeyPath = '/id', manualThroughput = '400')\".format(cosmosDatabaseName, cosmosContainerName))"
      ],
      "outputs": [
        {
          "output_type": "display_data",
          "data": {
            "application/vnd.livy.statement-meta+json": {
              "spark_pool": "thepool",
              "session_id": "0",
              "statement_id": 6,
              "state": "finished",
              "livy_statement_state": "available",
              "queued_time": "2022-10-29T17:55:35.0932337Z",
              "session_start_time": null,
              "execution_start_time": "2022-10-29T17:55:35.2302958Z",
              "execution_finish_time": "2022-10-29T17:55:36.3291162Z",
              "spark_jobs": null
            },
            "text/plain": "StatementMeta(thepool, 0, 6, Finished, Available)"
          },
          "metadata": {}
        },
        {
          "output_type": "execute_result",
          "execution_count": 22,
          "data": {
            "text/plain": "DataFrame[]"
          },
          "metadata": {}
        }
      ],
      "execution_count": 6,
      "metadata": {
        "jupyter": {
          "source_hidden": false,
          "outputs_hidden": false
        },
        "nteract": {
          "transient": {
            "deleting": false
          }
        }
      }
    },
    {
      "cell_type": "code",
      "source": [
        "#Ingest data\n",
        "\n",
        "spark.createDataFrame(((\"cat-alive\", \"Schrodinger cat\", 2, True), (\"cat-dead\", \"Schrodinger cat\", 2, False)))\\\n",
        "  .toDF(\"id\",\"name\",\"age\",\"isAlive\") \\\n",
        "   .write\\\n",
        "   .format(\"cosmos.oltp\")\\\n",
        "   .options(**cfg)\\\n",
        "   .mode(\"APPEND\")\\\n",
        "   .save()   "
      ],
      "outputs": [
        {
          "output_type": "display_data",
          "data": {
            "application/vnd.livy.statement-meta+json": {
              "spark_pool": "thepool",
              "session_id": "0",
              "statement_id": 7,
              "state": "finished",
              "livy_statement_state": "available",
              "queued_time": "2022-10-29T17:55:45.3464505Z",
              "session_start_time": null,
              "execution_start_time": "2022-10-29T17:55:45.5074617Z",
              "execution_finish_time": "2022-10-29T17:56:02.8554294Z",
              "spark_jobs": null
            },
            "text/plain": "StatementMeta(thepool, 0, 7, Finished, Available)"
          },
          "metadata": {}
        }
      ],
      "execution_count": 7,
      "metadata": {}
    },
    {
      "cell_type": "code",
      "source": [
        "#Query data\r\n",
        "\r\n",
        "from pyspark.sql.functions import col\r\n",
        "\r\n",
        "df = spark.read.format(\"cosmos.oltp\").options(**cfg)\\\r\n",
        " .option(\"spark.cosmos.read.inferSchema.enabled\", \"true\")\\\r\n",
        " .load()\r\n",
        "\r\n",
        "df.filter(col(\"isAlive\") == True)\\\r\n",
        " .show()"
      ],
      "outputs": [
        {
          "output_type": "display_data",
          "data": {
            "application/vnd.livy.statement-meta+json": {
              "spark_pool": "thepool",
              "session_id": "0",
              "statement_id": 8,
              "state": "finished",
              "livy_statement_state": "available",
              "queued_time": "2022-10-29T17:57:33.1485245Z",
              "session_start_time": null,
              "execution_start_time": "2022-10-29T17:57:33.2767927Z",
              "execution_finish_time": "2022-10-29T17:57:42.0071559Z",
              "spark_jobs": null
            },
            "text/plain": "StatementMeta(thepool, 0, 8, Finished, Available)"
          },
          "metadata": {}
        },
        {
          "output_type": "stream",
          "name": "stdout",
          "text": [
            "+---------+---------------+---+-------+\n|       id|           name|age|isAlive|\n+---------+---------------+---+-------+\n|cat-alive|Schrodinger cat|  2|   true|\n+---------+---------------+---+-------+\n\n"
          ]
        }
      ],
      "execution_count": 8,
      "metadata": {
        "jupyter": {
          "source_hidden": false,
          "outputs_hidden": false
        },
        "nteract": {
          "transient": {
            "deleting": false
          }
        }
      }
    }
  ],
  "metadata": {
    "kernelspec": {
      "name": "synapse_pyspark",
      "language": "Python",
      "display_name": "Synapse PySpark"
    },
    "language_info": {
      "name": "python"
    },
    "kernel_info": {
      "name": "synapse_pyspark"
    },
    "description": null,
    "save_output": true,
    "synapse_widget": {
      "version": "0.1",
      "state": {}
    }
  },
  "nbformat": 4,
  "nbformat_minor": 2
}